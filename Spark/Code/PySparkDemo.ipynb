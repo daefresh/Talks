{
 "cells": [
  {
   "cell_type": "code",
   "execution_count": 1,
   "metadata": {
    "collapsed": true
   },
   "outputs": [],
   "source": [
    "## DEMO OUTLINE: Hive, Parquet, Spark SQL, DataFrame\n",
    "# 000 - Put Flat Files into HDFS and Tail\n",
    "# 001 - Create HIVE transient tables: explain LOCATION in DDL\n",
    "# 005 - Create HIVE view: explain purpose of VW\n",
    "# 010 - Create HIVE parquet table: explain datatype differences\n",
    "# 015 - Load into parquet table: use beeline to load data into parquet then select 4 columns\n",
    "# 019 - PySpark data loading 3 ways: HIVE, CSV, Parquet\n",
    "# 020 - PySpark data access examples: parquet from hive, and pull from cassandra\n",
    "# 025 - PySpark data wrangling: split-apply-combine, scalar function\n",
    "# 030 - PySpark save to parquet\n",
    "# 030 - PySpark save to Cassandra "
   ]
  },
  {
   "cell_type": "markdown",
   "metadata": {},
   "source": [
    "# PySpark Demo for Spark, Parquet, Python Talk"
   ]
  },
  {
   "cell_type": "markdown",
   "metadata": {},
   "source": [
    "## Import Modules"
   ]
  },
  {
   "cell_type": "code",
   "execution_count": 1,
   "metadata": {
    "collapsed": false
   },
   "outputs": [],
   "source": [
    "## Magic commands\n",
    "%matplotlib inline \n",
    "\n",
    "## Modules to import\n",
    "# PySpark automatically creates SparkContext (sc) and SQLContext (sqlCtx)\n",
    "# SQLContext uses Spark SQL syntax and has no native support to interoperate with existing tables in Hive\n",
    "# HiveContext let's you query tables/views that already live in Hive having been created outside of Spark\n",
    "from pyspark import SparkContext, SparkConf # SparkContext is required if you want to sc.stop() and start with diff options\n",
    "from pyspark.sql import HiveContext, Row # SQLContext is required if you want to query flat files\n",
    "from pyspark.sql.types import * # Imports all datatypes\n",
    "from pyspark.sql.functions import * # Functions like sum, min, max, etc\n",
    "import pandas as pd # Useful for converting to local data frame outside of the grid"
   ]
  },
  {
   "cell_type": "code",
   "execution_count": 2,
   "metadata": {
    "collapsed": false
   },
   "outputs": [],
   "source": [
    "## Set SparkContext (sc) variables\n",
    "sc.appName=\"PySpark PoC by Doug\""
   ]
  },
  {
   "cell_type": "code",
   "execution_count": 3,
   "metadata": {
    "collapsed": false
   },
   "outputs": [],
   "source": [
    "# Spark 1.3.0 (maybe not in Spark 1.4.0), only if you want Spark to speak with CDH 5.4 Hive, you need to set this to false!\n",
    "# When set to false, Spark SQL will use the Hive SerDe for parquet tables instead of the built in support.\n",
    "# For more details: https://spark.apache.org/docs/1.3.0/sql-programming-guide.html\n",
    "# If you don't set this, then you'll get this error below...\n",
    "#  Py4JJavaError: An error occurred while calling o34.filter.\n",
    "#  : org.apache.spark.sql.AnalysisException: resolved attributes identifier missing from investment_id,identifier,package_id,asofdate;\n",
    "sqlCtx.setConf(\"spark.sql.hive.convertMetastoreParquet\", \"false\")"
   ]
  },
  {
   "cell_type": "markdown",
   "metadata": {},
   "source": [
    "## Display a list of all tables available in SparkSQL"
   ]
  },
  {
   "cell_type": "code",
   "execution_count": 4,
   "metadata": {
    "collapsed": false
   },
   "outputs": [
    {
     "data": {
      "text/plain": [
       "[u'holdings_total_marketvalue',\n",
       " u'importdatafullholdingsassetallocation',\n",
       " u'importdatafullholdingsbreakdownvalue',\n",
       " u'importdatafullholdingscountry',\n",
       " u'importdatafullholdingscurrency',\n",
       " u'importdatafullholdingsfundshareclass',\n",
       " u'importdatafullholdingsholding',\n",
       " u'importdatafullholdingsholdingaggregate',\n",
       " u'importdatafullholdingsholdingdetail',\n",
       " u'importdatafullholdingsholdinglevelflat',\n",
       " u'importdatafullholdingsholdinglevelflat_parquet',\n",
       " u'importdatafullholdingsholdinglevelflatvw',\n",
       " u'importdatafullholdingsinvestmentvehicle',\n",
       " u'importdatafullholdingslegaltype',\n",
       " u'importdatafullholdingslocalmarketvalue',\n",
       " u'importdatafullholdingsoperation',\n",
       " u'importdatafullholdingspackagebody',\n",
       " u'importdatafullholdingspackageheader',\n",
       " u'importdatafullholdingsportfolio',\n",
       " u'importdatafullholdingsportfoliobreakdown',\n",
       " u'importdatafullholdingsportfoliolist',\n",
       " u'importdatafullholdingsportfoliosummary',\n",
       " u'importdatafullholdingsshareclassbasics']"
      ]
     },
     "execution_count": 4,
     "metadata": {},
     "output_type": "execute_result"
    }
   ],
   "source": [
    "## Display a list of table names in Hive\n",
    "# If you install CDH 5.4 there's and option to enable HIVE, whereas if you build from source you need to use HIVE/Yarn flags: \n",
    "#  export MAVEN_OPTS=\"-Xmx2g -XX:MaxPermSize=512M -XX:ReservedCodeCacheSize=512m\"\n",
    "#  mvn -Pyarn -Phadoop-2.5 -Dhadoop.version=2.5.0-cdh5.2.0 -Phive -Phive-thriftserver -DskipTests clean package -X\n",
    "# Make sure to follow directions in this: https://spark.apache.org/docs/1.3.0/building-spark.html#\n",
    "# Also refer here for more info about building with Hive:  https://spark.apache.org/docs/latest/sql-programming-guide.html#configuration\n",
    "# This is all using CD 5.4 (which I'd recommend for a quick start)\n",
    "sqlCtx.tableNames()"
   ]
  },
  {
   "cell_type": "code",
   "execution_count": null,
   "metadata": {
    "collapsed": true
   },
   "outputs": [],
   "source": []
  },
  {
   "cell_type": "markdown",
   "metadata": {},
   "source": [
    "## Bind to a HIVE Table"
   ]
  },
  {
   "cell_type": "code",
   "execution_count": 5,
   "metadata": {
    "collapsed": true
   },
   "outputs": [],
   "source": [
    "## Bind Spark DataFrame to Hive Table\n",
    "# A DataFrame is equivalent to a relational table in Spark SQL, and can be created using various functions in SQLContexts\n",
    "# The following example shows how to construct DataFrames in Python. A similar API is available in Scala and Java.\n",
    "holdings = sqlCtx.table(\"importdatafullholdingsholdinglevelflat_parquet\") # or importdatafullholdingsholdinglevelflatvw"
   ]
  },
  {
   "cell_type": "code",
   "execution_count": null,
   "metadata": {
    "collapsed": true
   },
   "outputs": [],
   "source": []
  },
  {
   "cell_type": "markdown",
   "metadata": {},
   "source": [
    "## Display the first few Row's in the DataFrame"
   ]
  },
  {
   "cell_type": "code",
   "execution_count": 6,
   "metadata": {
    "collapsed": false
   },
   "outputs": [
    {
     "data": {
      "text/plain": [
       "Row(dataobjectinstanceversionkey=62903, dataeffectivedt=datetime.datetime(2014, 6, 10, 0, 0), investmentvehicle_id=1, iv_id=u'F000000M03', shareclassbasics_id=1, scb_cusip=u'', scb_ticker=u'', scb_legaltype=u'FO', scb_name=u'DIAM J-REIT Open D1M', operation_id=1, fundshareclass_id=1, fsc_id=u'F000000M03', portfoliolist_id=1, portfolio_id=1, hp_externalid=u'FSUSA0AHAB', currencyid=u'JPY', portfoliosummary_id=1, p_date=datetime.datetime(2014, 1, 16, 0, 0), holding_id=1, holdingdetail_id=1, hd_externalid=u'Mother Fund', hd_id=u'F000002N5J', cusip=u'', isin=u'', sedol=u'', symbol=u'', region=10, sector=u'', country=u'Japan', currency=u'', currencycode=u'', securityname=u'DIAM J-REIT Open Mother Fund', legaltype=u'FO', stylebox=6, marketvalue=120197592000, costbasis=None, maturitydate=None, accruedinterest=None, coupon=None, holdingytdreturn=None, marketcapital=None, localmarketvalue=u'', paymenttype=u'', rule144aeligible=u'', altmintaxeligible=u'', lessthanoneyearbond=u'', firstboughtdate=None, weighting=Decimal('100'), numberofshare=53760440000, sharechange=4778989000)"
      ]
     },
     "execution_count": 6,
     "metadata": {},
     "output_type": "execute_result"
    }
   ],
   "source": [
    "# Prints the first record with data sourced from Hive\n",
    "# Interesting point: Spark can query HIVE parquet table, and those tiny files in HDFS through EXTERNAL TABLE in HIVE!\n",
    "# DataFrames can be constructed from a wide array of sources such as: structured data files, tables in Hive, external databases, or existing RDDs.\n",
    "holdings.first()"
   ]
  },
  {
   "cell_type": "code",
   "execution_count": null,
   "metadata": {
    "collapsed": true
   },
   "outputs": [],
   "source": []
  },
  {
   "cell_type": "markdown",
   "metadata": {},
   "source": [
    "## Select specific columns of data"
   ]
  },
  {
   "cell_type": "code",
   "execution_count": 7,
   "metadata": {
    "collapsed": false
   },
   "outputs": [
    {
     "name": "stdout",
     "output_type": "stream",
     "text": [
      "p_date               iv_id     \n",
      "2014-01-16 00:00:... F000000M03\n",
      "2014-01-16 00:00:... F000000M03\n",
      "2013-12-02 00:00:... F000000MAH\n",
      "2013-12-02 00:00:... F000000MAH\n",
      "2014-01-30 00:00:... F000000MK9\n",
      "2014-01-30 00:00:... F000000MK9\n",
      "2014-01-27 00:00:... F000000MT7\n",
      "2014-01-27 00:00:... F000000MT7\n",
      "2013-12-20 00:00:... F000000MZX\n",
      "2013-12-20 00:00:... F000000MZX\n",
      "2013-12-10 00:00:... F000000N51\n",
      "2013-12-10 00:00:... F000000N51\n",
      "2014-03-18 00:00:... F000000NA6\n",
      "2014-03-18 00:00:... F000000NA6\n",
      "2013-08-12 00:00:... F000000NF4\n",
      "2013-08-12 00:00:... F000000NF4\n",
      "2014-03-25 00:00:... F000000NIJ\n",
      "2014-03-25 00:00:... F000000NIJ\n",
      "2013-04-01 00:00:... F000000NKW\n",
      "2013-04-01 00:00:... F000000NKW\n"
     ]
    }
   ],
   "source": [
    "# Let's select 2 of 49 columns and pretty print, using show(), to the screen\n",
    "# head(), show(), and collect() are all very similar, for this demo we'll use show()\n",
    "holdings.select(\"p_date\", \"iv_id\").show()"
   ]
  },
  {
   "cell_type": "code",
   "execution_count": null,
   "metadata": {
    "collapsed": true
   },
   "outputs": [],
   "source": []
  },
  {
   "cell_type": "markdown",
   "metadata": {},
   "source": [
    "## Distinct Operation in Spark DataFrame vs. Pandas DataFrame (Syntax)"
   ]
  },
  {
   "cell_type": "code",
   "execution_count": 8,
   "metadata": {
    "collapsed": false
   },
   "outputs": [
    {
     "name": "stdout",
     "output_type": "stream",
     "text": [
      "iv_id     \n",
      "F00000MA7P\n",
      "F00000MA81\n",
      "F00000NAE7\n",
      "F00000PJPS\n",
      "F0000027CK\n",
      "F000001WR1\n",
      "F000000M88\n",
      "F000000M7W\n",
      "F00000PMTL\n",
      "F00000PHNC\n",
      "F000000MQQ\n",
      "F000000MR2\n",
      "F000005KCR\n",
      "F00000ITAK\n",
      "F00000QHB0\n",
      "F000000NLK\n",
      "F000000M1I\n",
      "F0000023DX\n",
      "F00000MJP8\n",
      "F00000H6I0\n"
     ]
    }
   ],
   "source": [
    "# Fetch distinct list of fund id's and pretty print\n",
    "holdings.select(\"iv_id\").distinct().show()"
   ]
  },
  {
   "cell_type": "code",
   "execution_count": 9,
   "metadata": {
    "collapsed": false
   },
   "outputs": [
    {
     "data": {
      "text/plain": [
       "array([u'F000000M03', u'F000000MAH', u'F000000MK9', ..., u'F00000MRA8',\n",
       "       u'F00000MRAA', u'F00000MSD6'], dtype=object)"
      ]
     },
     "execution_count": 9,
     "metadata": {},
     "output_type": "execute_result"
    }
   ],
   "source": [
    "# This would be the equiv of the below in Pandas DataFrame()\n",
    "frame = holdings.toPandas()\n",
    "frame.iv_id.unique()"
   ]
  },
  {
   "cell_type": "code",
   "execution_count": null,
   "metadata": {
    "collapsed": true
   },
   "outputs": [],
   "source": []
  },
  {
   "cell_type": "markdown",
   "metadata": {},
   "source": [
    "## Simple Filter Operation on Spark DataFrame"
   ]
  },
  {
   "cell_type": "code",
   "execution_count": 10,
   "metadata": {
    "collapsed": false
   },
   "outputs": [
    {
     "name": "stdout",
     "output_type": "stream",
     "text": [
      "Filter (identifier#51 = F00000QM1Y)\n",
      " HiveTableScan [investmentvehicle_id#50,identifier#51,packagebody_id#52,dataeffectivedt#53,dataobjectinstanceversionkey#54L], (MetastoreRelation default, importdatafullholdingsinvestmentvehicle, None), None\n",
      "\n",
      "investmentvehicle_id identifier packagebody_id dataeffectivedt dataobjectinstanceversionkey\n",
      "2321                 F00000QM1Y 1              2014-06-10      62903                       \n"
     ]
    }
   ],
   "source": [
    "# *********************** change?\n",
    "# Bind a Spark DataFrame to the HIVE EXTERNAL transient table consisting of those tiny CSV files in HDFS\n",
    "# Filter's the DataFrame down by fund id\n",
    "iv = sqlCtx.table(\"importdatafullholdingsinvestmentvehicle\")\n",
    "# Using explain() we can see it will perform a HiveTableScan\n",
    "iv_fund = iv.filter(iv.identifier == \"F00000QM1Y\")\n",
    "#iv_fund.explain()\n",
    "iv_fund.show()"
   ]
  },
  {
   "cell_type": "code",
   "execution_count": null,
   "metadata": {
    "collapsed": false
   },
   "outputs": [],
   "source": []
  },
  {
   "cell_type": "markdown",
   "metadata": {
    "collapsed": false
   },
   "source": [
    "## Compute Total Holdings Per Fund and Holding Period and Sort in Descending Order"
   ]
  },
  {
   "cell_type": "code",
   "execution_count": 14,
   "metadata": {
    "collapsed": false
   },
   "outputs": [
    {
     "name": "stdout",
     "output_type": "stream",
     "text": [
      "iv_id      p_date               count\n",
      "F000000MEI 2013-05-31 00:00:... 3346 \n",
      "F000000MOM 2013-07-18 00:00:... 2800 \n",
      "F000000N06 2013-05-27 00:00:... 2764 \n",
      "F000000M1V 2013-10-15 00:00:... 2168 \n",
      "F000000NBQ 2013-11-19 00:00:... 1450 \n",
      "F000000MGJ 2014-03-17 00:00:... 1396 \n",
      "F000000NPA 2013-09-24 00:00:... 1348 \n",
      "F000000NHU 2014-03-31 00:00:... 1152 \n",
      "F000000MVL 2013-11-20 00:00:... 1130 \n",
      "F000000NJN 2013-05-27 00:00:... 1048 \n"
     ]
    }
   ],
   "source": [
    "# How many holdings are there per fund and holding period \n",
    "holdings_group = holdings.groupBy(\"iv_id\", \"p_date\") # group by: fund, report date, asset class\n",
    "holdings_group.count().orderBy(desc(\"count\")).show(10)"
   ]
  },
  {
   "cell_type": "code",
   "execution_count": null,
   "metadata": {
    "collapsed": false
   },
   "outputs": [],
   "source": []
  },
  {
   "cell_type": "markdown",
   "metadata": {
    "collapsed": true
   },
   "source": [
    "## Compute Total Market Value using GroupBy and SUM"
   ]
  },
  {
   "cell_type": "code",
   "execution_count": 15,
   "metadata": {
    "collapsed": false
   },
   "outputs": [
    {
     "name": "stdout",
     "output_type": "stream",
     "text": [
      "iv_id      p_date               legaltype total_marketvalue avg_weighting\n",
      "F000000NA0 2014-03-05 00:00:... E         2183281964000     194          \n",
      "F000000NCI 2014-03-17 00:00:... E         1116702236000     196          \n",
      "F00000JYL1 2014-03-20 00:00:... EX        1079265568000     196          \n",
      "F000000MLZ 2013-08-23 00:00:... E         574593122000      184          \n",
      "F000000MSE 2013-12-13 00:00:... E         469444000000      134          \n",
      "F000005GEK 2013-10-15 00:00:... EX        455800262000      198          \n",
      "F00000GVV0 2013-11-20 00:00:... EX        412956422000      198          \n",
      "F00000MWV3 2014-03-07 00:00:... EX        409420072000      198          \n",
      "F000000N96 2013-10-15 00:00:... E         303778634000      200          \n",
      "F000000NHS 2014-01-17 00:00:... BT        300391736000      120          \n"
     ]
    }
   ],
   "source": [
    "# computes total market value for each asset class and fund per report date\n",
    "holdings_group = holdings.filter(holdings.legaltype != \"FO\")\n",
    "holdings_group = holdings_group.groupBy(\"iv_id\", \"p_date\", \"legaltype\") # group by: fund, report date, asset class\n",
    "holdings_total_marketvalue = holdings_group.agg({\"marketvalue\": \"sum\", \"weighting\":\"sum\"}) # compute total market value\n",
    "\n",
    "# Rename the machine generated label with something that is human readable! May need to rename column again\n",
    "holdings_total_marketvalue = holdings_total_marketvalue.withColumnRenamed(\"SUM(marketvalue#34L)\", \"total_marketvalue\")\n",
    "holdings_total_marketvalue = holdings_total_marketvalue.withColumnRenamed(\"SUM(weighting#47)\", \"avg_weighting\")\n",
    "\n",
    "# Display the instruments with the largest market value\n",
    "holdings_total_marketvalue.orderBy(desc(\"total_marketvalue\")).show(10)"
   ]
  },
  {
   "cell_type": "code",
   "execution_count": null,
   "metadata": {
    "collapsed": true
   },
   "outputs": [],
   "source": []
  },
  {
   "cell_type": "markdown",
   "metadata": {},
   "source": [
    "## Spark DataFrame vs. Pandas DataFrame"
   ]
  },
  {
   "cell_type": "code",
   "execution_count": 16,
   "metadata": {
    "collapsed": false
   },
   "outputs": [
    {
     "name": "stdout",
     "output_type": "stream",
     "text": [
      "iv_id      p_date               legaltype SUM(marketvalue#34L)\n",
      "F00000P7R8 2013-09-19 00:00:... C         16597686            \n",
      "F00000LKJW 2013-09-06 00:00:... FO        593558000           \n",
      "F000000MQE 2013-07-01 00:00:... FO        23253568000         \n",
      "F0000022M0 2013-12-24 00:00:... C         6433558             \n",
      "F00000P05T 2013-09-12 00:00:... FO        3367610000          \n",
      "F00000LI63 2013-11-15 00:00:... FO        4157758000          \n",
      "F00000NG8O 2013-12-09 00:00:... EX        562536488           \n",
      "F00000PV9P 2013-10-15 00:00:... EX        2460992000          \n",
      "F00000N86T 2013-11-15 00:00:... C         45016               \n",
      "F00000J7GW 2013-09-20 00:00:... EX        73341738000         \n",
      "F00000O5F8 2014-02-24 00:00:... FO        284000              \n",
      "F000000N6G 2013-09-17 00:00:... FO        6471470000          \n",
      "F00000P05M 2014-02-17 00:00:... FO        66430000            \n",
      "F00000OS1D 2013-09-09 00:00:... Q         1628191552          \n",
      "F00000Q7LV 2013-11-21 00:00:... EX        3155333150          \n",
      "F00000H68X 2014-03-17 00:00:... C         50023256            \n",
      "F000005HF2 2013-10-15 00:00:... FO        3009481666          \n",
      "F000000N63 2013-04-12 00:00:... FO        995496000           \n",
      "F000000MC7 2014-04-21 00:00:... C         190398644           \n",
      "F000000MQF 2013-11-20 00:00:... FO        27552849242         \n"
     ]
    }
   ],
   "source": [
    "# Spark DataFrame: total market value by fund, report date, and asset class of holding position\n",
    "holdings.groupBy(\"iv_id\", \"p_date\", \"legaltype\").agg({\"marketvalue\": \"sum\"}).show()"
   ]
  },
  {
   "cell_type": "code",
   "execution_count": 17,
   "metadata": {
    "collapsed": false
   },
   "outputs": [
    {
     "data": {
      "text/plain": [
       "iv_id       p_date      legaltype\n",
       "F000000LVG  2013-08-26  C              176837258\n",
       "                        EX            8769324000\n",
       "                        FO             143360000\n",
       "F000000LVH  2013-06-12  C              700190310\n",
       "                        FO            8662300000\n",
       "F000000LVI  2013-12-10  C              574790282\n",
       "                        EX           41020032000\n",
       "                        FO             351578000\n",
       "F000000LVJ  2013-11-25  C              671617626\n",
       "                        EX           95629058000\n",
       "                        FO            1064076000\n",
       "F000000LVK  2013-06-25  C              141420468\n",
       "                        E              668456000\n",
       "F000000LVN  2013-12-02  C                1416036\n",
       "                        FO            2139518000\n",
       "Name: marketvalue, dtype: int64"
      ]
     },
     "execution_count": 17,
     "metadata": {},
     "output_type": "execute_result"
    }
   ],
   "source": [
    "# Spark DataFrame: total market value by fund, report date, and asset class of holding position\n",
    "frame = holdings.toPandas()\n",
    "frame.groupby([\"iv_id\", \"p_date\", \"legaltype\"])[\"marketvalue\"].sum().head(15)"
   ]
  },
  {
   "cell_type": "code",
   "execution_count": null,
   "metadata": {
    "collapsed": false
   },
   "outputs": [],
   "source": []
  },
  {
   "cell_type": "markdown",
   "metadata": {},
   "source": [
    "## Top Short Positions in Equities"
   ]
  },
  {
   "cell_type": "code",
   "execution_count": 20,
   "metadata": {
    "collapsed": false,
    "scrolled": true
   },
   "outputs": [
    {
     "name": "stdout",
     "output_type": "stream",
     "text": [
      "p_date               securityname         total_marketvalue COUNT(iv_id#3)\n",
      "2013-07-16 00:00:... Eisai                -24882000         2             \n",
      "2013-07-16 00:00:... Sumitomo Corp.       -23914000         2             \n",
      "2013-07-16 00:00:... Marubeni Corporation -20132000         2             \n",
      "2013-07-16 00:00:... Shiseido Company,... -18414000         2             \n",
      "2013-07-16 00:00:... Kao Corporation      -17250000         2             \n",
      "2013-07-16 00:00:... Shin-Etsu Chemica... -16776000         2             \n",
      "2013-07-16 00:00:... Unicharm Corp        -16500000         2             \n",
      "2013-07-16 00:00:... Itochu Corp.         -16354000         2             \n",
      "2013-07-16 00:00:... SECOM Co., Ltd.      -15932000         2             \n",
      "2013-11-27 00:00:... Japan Steel Works    -15092000         2             \n",
      "2013-07-16 00:00:... Kagome Co., Ltd.     -14598000         2             \n",
      "2013-07-16 00:00:... Seven & i Holding... -14274000         2             \n",
      "2013-07-16 00:00:... Canon, Inc.          -13840000         2             \n",
      "2013-07-16 00:00:... Hokuto Corp          -13596000         2             \n",
      "2013-07-16 00:00:... Keyence Corp         -13460000         2             \n",
      "2013-07-16 00:00:... TonenGeneral Seki... -13454000         2             \n",
      "2013-07-16 00:00:... Toray Industries,... -13260000         2             \n",
      "2013-07-16 00:00:... Sumitomo Electric... -12632000         2             \n",
      "2013-07-16 00:00:... Hoya                 -12470000         2             \n",
      "2013-07-16 00:00:... Daito Trust Const... -12334000         2             \n",
      "2013-07-16 00:00:... Japan Airlines Co... -11682000         2             \n",
      "2013-07-16 00:00:... NIDEC CORP.          -11616000         2             \n",
      "2013-11-27 00:00:... Shiseido Company,... -11550000         2             \n",
      "2013-07-16 00:00:... Tokyo Electron Ltd.  -11176000         2             \n",
      "2013-11-27 00:00:... Nikon                -11146000         2             \n",
      "2013-07-16 00:00:... Mitsubishi Electr... -10920000         2             \n",
      "2013-07-16 00:00:... Denso Corporation    -10834000         2             \n",
      "2013-07-16 00:00:... Yamato Holdings C... -10746000         2             \n",
      "2013-11-27 00:00:... Sumitomo Rubber I... -10578000         2             \n",
      "2013-07-16 00:00:... Lion Corporation     -10332000         2             \n"
     ]
    }
   ],
   "source": [
    "# Top Shorted Equities Per Report Date\n",
    "holdings_shorts = holdings.filter(holdings.marketvalue < 0) # Short Positions\n",
    "holdings_shorts = holdings_shorts.filter(holdings.legaltype == \"E\") # Equities\n",
    "holdings_shorts = holdings_shorts.groupBy(\"p_date\", \"securityname\").agg({\"marketvalue\":\"sum\", \"iv_id\":\"count\"}) # Change to ISIN\n",
    "holdings_shorts = holdings_shorts.withColumnRenamed(\"SUM(marketvalue#34L)\", \"total_marketvalue\") # Rename\n",
    "holdings_shorts.orderBy(asc(\"total_marketvalue\")).show(30) # Pretty Print"
   ]
  },
  {
   "cell_type": "code",
   "execution_count": null,
   "metadata": {
    "collapsed": false,
    "scrolled": true
   },
   "outputs": [],
   "source": []
  },
  {
   "cell_type": "markdown",
   "metadata": {},
   "source": [
    "## Save DataFrame as HIVE Table"
   ]
  },
  {
   "cell_type": "code",
   "execution_count": 24,
   "metadata": {
    "collapsed": false
   },
   "outputs": [
    {
     "name": "stdout",
     "output_type": "stream",
     "text": [
      "iv_id      p_date               legaltype total_marketvalue\n",
      "F00000P7R8 2013-09-19 00:00:... C         16597686         \n",
      "F00000ODIM 2014-04-14 00:00:... C         7617346          \n",
      "F0000022M0 2013-12-24 00:00:... C         6433558          \n"
     ]
    }
   ],
   "source": [
    "# Saves DataFrame as HIVE table stored in Parquet format, specificies to overwrite the dataset \n",
    "# see and show screenshot of \"hadoop fs -ls /user/hive/warehouse/holdings_total_marketvalue\"\n",
    "# NOTE: Saving tables (or even Parquet Files) with DecimalType(20,2) is not supported in Spark 1.3.0, so you need to cast it\n",
    "# NOTE: Can't access this data via beeline/hive client tools at this time, version change?\n",
    "holdings_total_marketvalue_example = holdings_total_marketvalue.select(\n",
    "    holdings_total_marketvalue.iv_id,\n",
    "    holdings_total_marketvalue.p_date,\n",
    "    holdings_total_marketvalue.legaltype,\n",
    "    holdings_total_marketvalue.total_marketvalue.cast(\"int\").alias('total_marketvalue')\n",
    ")\n",
    "# holdings_total_marketvalue_string.show(5)\n",
    "\n",
    "# Saves as a table back to Hive\n",
    "# NOTE: querying hive table, using beeline, results in failure below (probably need right jar for source)\n",
    "holdings_total_marketvalue_example.saveAsTable(\"holdings_total_marketvalue\", source=\"parquet\", mode=\"overwrite\")\n",
    "# Loads table back from Hive into DataFrame\n",
    "holdings_total_marketvalue_example = sqlCtx.table(\"holdings_total_marketvalue\")\n",
    "# Shows first few records\n",
    "holdings_total_marketvalue_example.show(3)"
   ]
  },
  {
   "cell_type": "code",
   "execution_count": null,
   "metadata": {
    "collapsed": true
   },
   "outputs": [],
   "source": []
  },
  {
   "cell_type": "markdown",
   "metadata": {},
   "source": [
    "## Save DataFrame as Parquet File"
   ]
  },
  {
   "cell_type": "code",
   "execution_count": 113,
   "metadata": {
    "collapsed": false
   },
   "outputs": [],
   "source": [
    "# Saves dataset as Parquet file on local disk and preserves the schema\n",
    "# holdings_total_marketvalue.saveAsParquetFile(\"/tmp/holdings_total_marketvalue.parquet\")\n",
    "holdings_total_marketvalue_string.saveAsParquetFile(\"/tmp/holdings_total_marketvalue.parquet\")"
   ]
  },
  {
   "cell_type": "code",
   "execution_count": null,
   "metadata": {
    "collapsed": true
   },
   "outputs": [],
   "source": []
  },
  {
   "cell_type": "markdown",
   "metadata": {},
   "source": [
    "## Load from Parquet File into DataFrame"
   ]
  },
  {
   "cell_type": "code",
   "execution_count": 25,
   "metadata": {
    "collapsed": false
   },
   "outputs": [
    {
     "name": "stdout",
     "output_type": "stream",
     "text": [
      "iv_id      p_date               legaltype total_marketvalue_string\n",
      "F00000P7R8 2013-09-19 00:00:... C         8298843                 \n",
      "F00000ODIM 2014-04-14 00:00:... C         3808673                 \n",
      "F0000022M0 2013-12-24 00:00:... C         3216779                 \n",
      "F000005O45 2014-01-17 00:00:... EX        4753398                 \n",
      "F00000NG8O 2013-12-09 00:00:... EX        281268244               \n",
      "F00000PV9P 2013-10-15 00:00:... EX        1230496000              \n",
      "F00000N86T 2013-11-15 00:00:... C         22508                   \n",
      "F00000J7GW 2013-09-20 00:00:... EX        36670869000             \n",
      "F000001WY6 2014-01-15 00:00:... C         5250115                 \n",
      "F000001WVS 2014-01-20 00:00:... C         8516975                 \n"
     ]
    }
   ],
   "source": [
    "# Loads Parquet dataset into Spark Data Frame\n",
    "holdings_total_marketvalue_from_file = sqlCtx.parquetFile(\"/tmp/holdings_total_marketvalue.parquet\")\n",
    "holdings_total_marketvalue_from_file.show(10)"
   ]
  },
  {
   "cell_type": "code",
   "execution_count": null,
   "metadata": {
    "collapsed": false
   },
   "outputs": [],
   "source": []
  },
  {
   "cell_type": "markdown",
   "metadata": {},
   "source": [
    "## Loading from Raw Structured Data File in Local FS"
   ]
  },
  {
   "cell_type": "code",
   "execution_count": 26,
   "metadata": {
    "collapsed": false
   },
   "outputs": [
    {
     "name": "stdout",
     "output_type": "stream",
     "text": [
      "iv_id      p_date              cusip sedol isin securityname         marketvalue weighting\n",
      "F000000LVG 2013-08-26 00:00:00                  Cash & Cash Equiv... 88418629    2        \n",
      "F000000LVG 2013-08-26 00:00:00                  Fullerton VPIC Fu... 4384662000  96       \n"
     ]
    }
   ],
   "source": [
    "# Load a text file and convert each line to a tuple.\n",
    "csv = sc.textFile(\"file:///home/yoda/Documents/HoldingsFlat.csv\")\n",
    "fields = csv.map(lambda l: l.split(\"|\"))\n",
    "header = \"iv_id|p_date|cusip|sedol|isin|securityname|marketvalue|weighting\"\n",
    "data = fields.map(lambda p: [p[x] for x in range(len(header.split(\"|\")))])\n",
    "\n",
    "# All columns are string, not strongly-typed\n",
    "fields = [StructField(field_name, StringType(), True) for field_name in header.split(\"|\")]\n",
    "schema = StructType(fields)\n",
    "\n",
    "# Apply the schema to the RDD.\n",
    "schemaData = sqlCtx.createDataFrame(data, schema)\n",
    "\n",
    "# Register the DataFrame as a table.\n",
    "schemaData.registerTempTable(\"holdings\")\n",
    "\n",
    "# SQL can be run over DataFrames that have been registered as a table.\n",
    "results = sqlCtx.sql(\"SELECT * FROM holdings limit 2\")\n",
    "\n",
    "# Display results\n",
    "results.show()"
   ]
  },
  {
   "cell_type": "code",
   "execution_count": 15,
   "metadata": {
    "collapsed": false
   },
   "outputs": [
    {
     "data": {
      "text/html": [
       "<div style=\"max-height:1000px;max-width:1500px;overflow:auto;\">\n",
       "<table border=\"1\" class=\"dataframe\">\n",
       "  <thead>\n",
       "    <tr style=\"text-align: right;\">\n",
       "      <th></th>\n",
       "      <th>iv_id</th>\n",
       "      <th>p_date</th>\n",
       "      <th>legaltype</th>\n",
       "      <th>total_marketvalue</th>\n",
       "      <th>avg_weighting</th>\n",
       "    </tr>\n",
       "  </thead>\n",
       "  <tbody>\n",
       "    <tr>\n",
       "      <th>0</th>\n",
       "      <td>F00000P7R8</td>\n",
       "      <td>2013-09-19</td>\n",
       "      <td>C</td>\n",
       "      <td>8298843</td>\n",
       "      <td>0</td>\n",
       "    </tr>\n",
       "    <tr>\n",
       "      <th>1</th>\n",
       "      <td>F00000ODIM</td>\n",
       "      <td>2014-04-14</td>\n",
       "      <td>C</td>\n",
       "      <td>3808673</td>\n",
       "      <td>1</td>\n",
       "    </tr>\n",
       "    <tr>\n",
       "      <th>2</th>\n",
       "      <td>F0000022M0</td>\n",
       "      <td>2013-12-24</td>\n",
       "      <td>C</td>\n",
       "      <td>3216779</td>\n",
       "      <td>1</td>\n",
       "    </tr>\n",
       "    <tr>\n",
       "      <th>3</th>\n",
       "      <td>F000005O45</td>\n",
       "      <td>2014-01-17</td>\n",
       "      <td>EX</td>\n",
       "      <td>4753398</td>\n",
       "      <td>1</td>\n",
       "    </tr>\n",
       "    <tr>\n",
       "      <th>4</th>\n",
       "      <td>F00000NG8O</td>\n",
       "      <td>2013-12-09</td>\n",
       "      <td>EX</td>\n",
       "      <td>281268244</td>\n",
       "      <td>98</td>\n",
       "    </tr>\n",
       "    <tr>\n",
       "      <th>5</th>\n",
       "      <td>F00000PV9P</td>\n",
       "      <td>2013-10-15</td>\n",
       "      <td>EX</td>\n",
       "      <td>1230496000</td>\n",
       "      <td>97</td>\n",
       "    </tr>\n",
       "    <tr>\n",
       "      <th>6</th>\n",
       "      <td>F00000N86T</td>\n",
       "      <td>2013-11-15</td>\n",
       "      <td>C</td>\n",
       "      <td>22508</td>\n",
       "      <td>2</td>\n",
       "    </tr>\n",
       "    <tr>\n",
       "      <th>7</th>\n",
       "      <td>F00000J7GW</td>\n",
       "      <td>2013-09-20</td>\n",
       "      <td>EX</td>\n",
       "      <td>36670869000</td>\n",
       "      <td>99</td>\n",
       "    </tr>\n",
       "    <tr>\n",
       "      <th>8</th>\n",
       "      <td>F000001WY6</td>\n",
       "      <td>2014-01-15</td>\n",
       "      <td>C</td>\n",
       "      <td>5250115</td>\n",
       "      <td>2</td>\n",
       "    </tr>\n",
       "    <tr>\n",
       "      <th>9</th>\n",
       "      <td>F000001WVS</td>\n",
       "      <td>2014-01-20</td>\n",
       "      <td>C</td>\n",
       "      <td>8516975</td>\n",
       "      <td>0</td>\n",
       "    </tr>\n",
       "  </tbody>\n",
       "</table>\n",
       "</div>"
      ],
      "text/plain": [
       "        iv_id     p_date legaltype  total_marketvalue avg_weighting\n",
       "0  F00000P7R8 2013-09-19         C            8298843             0\n",
       "1  F00000ODIM 2014-04-14         C            3808673             1\n",
       "2  F0000022M0 2013-12-24         C            3216779             1\n",
       "3  F000005O45 2014-01-17        EX            4753398             1\n",
       "4  F00000NG8O 2013-12-09        EX          281268244            98\n",
       "5  F00000PV9P 2013-10-15        EX         1230496000            97\n",
       "6  F00000N86T 2013-11-15         C              22508             2\n",
       "7  F00000J7GW 2013-09-20        EX        36670869000            99\n",
       "8  F000001WY6 2014-01-15         C            5250115             2\n",
       "9  F000001WVS 2014-01-20         C            8516975             0"
      ]
     },
     "execution_count": 15,
     "metadata": {},
     "output_type": "execute_result"
    }
   ],
   "source": [
    "frame.head(10)"
   ]
  },
  {
   "cell_type": "markdown",
   "metadata": {},
   "source": [
    "## Convert to Local Pandas DataFrame and Visualize"
   ]
  },
  {
   "cell_type": "code",
   "execution_count": 25,
   "metadata": {
    "collapsed": false
   },
   "outputs": [
    {
     "data": {
      "image/png": "[encoded data removed]",
      "text/plain": [
       "<matplotlib.figure.Figure at 0x7fc865d4cb10>"
      ]
     },
     "metadata": {},
     "output_type": "display_data"
    }
   ],
   "source": [
    "# Subset the frame by asset class and reindex it to prep for plotting\n",
    "frame_asset = frame[frame[\"legaltype\"] == \"CD\"] # Credit Default\n",
    "frame_asset = frame_asset.set_index([\"iv_id\", \"p_date\", \"legaltype\"])\n",
    "\n",
    "# Plot: all data features in a bar chart layout\n",
    "title = \"PoC: Descriptive Statistics \\n Total Market Value Per Fund, Report Period, and Asset Class\"\n",
    "size = (9, 6)\n",
    "ax = frame_asset.plot(kind='bar', stacked=True, figsize=size, title=title)"
   ]
  },
  {
   "cell_type": "markdown",
   "metadata": {},
   "source": [
    "## Register DataFrame as SparkSQL Table for SQL-like Queries"
   ]
  },
  {
   "cell_type": "code",
   "execution_count": 26,
   "metadata": {
    "collapsed": false
   },
   "outputs": [
    {
     "name": "stdout",
     "output_type": "stream",
     "text": [
      "iv_id      p_date               legaltype total_marketvalue\n",
      "F00000P7R8 2013-09-19 00:00:... C         8298843          \n",
      "F00000LKJW 2013-09-06 00:00:... FO        296779000        \n",
      "F000000MQE 2013-07-01 00:00:... FO        11626784000      \n",
      "F0000022M0 2013-12-24 00:00:... C         3216779          \n",
      "F00000P05T 2013-09-12 00:00:... FO        1683805000       \n",
      "F00000LI63 2013-11-15 00:00:... FO        2078879000       \n",
      "F00000NG8O 2013-12-09 00:00:... EX        281268244        \n",
      "F00000PV9P 2013-10-15 00:00:... EX        1230496000       \n",
      "F00000N86T 2013-11-15 00:00:... C         22508            \n",
      "F00000J7GW 2013-09-20 00:00:... EX        36670869000      \n"
     ]
    }
   ],
   "source": [
    "# Registers the DataFrame (SchemaRDD) as a SparkSQL Temporary Table\n",
    "holdings.registerTempTable(\"holdings\")\n",
    "\n",
    "# Executes same query over temp table\n",
    "sqlCtx.sql(\"\"\"\n",
    "select iv_id, p_date, legaltype, sum(marketvalue) as total_marketvalue \n",
    "from holdings \n",
    "group by iv_id, p_date, legaltype\n",
    "limit 10\n",
    "\"\"\").show()"
   ]
  },
  {
   "cell_type": "markdown",
   "metadata": {
    "collapsed": true
   },
   "source": [
    "## Push Python Function into Spark as SQL UDF"
   ]
  },
  {
   "cell_type": "code",
   "execution_count": 27,
   "metadata": {
    "collapsed": false
   },
   "outputs": [
    {
     "name": "stdout",
     "output_type": "stream",
     "text": [
      "p_date               iv_id      long_short_code sedol marketvalue \n",
      "2014-01-16 00:00:... F000000M03 L                     120197592000\n",
      "2014-01-16 00:00:... F000000M03 L                     31748543    \n"
     ]
    }
   ],
   "source": [
    "# Create a Python UDF and push that into Spark to be executed\n",
    "# Consider how hard this is to do currently in SQL Server or Oracle!\n",
    "def long_short_code(marketvalue):\n",
    "    if marketvalue >= 0:\n",
    "        code = \"L\"\n",
    "    elif marketvalue <0:\n",
    "        code = \"S\"\n",
    "    else:\n",
    "        code = \"NA\"\n",
    "    return code\n",
    "\n",
    "# Registers a lambda function as a UDF so it can be used in SQL statements, return type by default is string\n",
    "sqlCtx.registerFunction(\"long_short_code\", long_short_code)\n",
    "holdings_ls = sqlCtx.sql(\"select *, long_short_code('marketvalue') as long_short_code from holdings limit 10\")\n",
    "holdings_ls.select(\"p_date\", \"iv_id\", \"long_short_code\", \"sedol\", \"marketvalue\").show(2)"
   ]
  },
  {
   "cell_type": "code",
   "execution_count": null,
   "metadata": {
    "collapsed": false
   },
   "outputs": [],
   "source": []
  },
  {
   "cell_type": "markdown",
   "metadata": {
    "collapsed": true
   },
   "source": [
    "## Import Data From Cassandra into PySpark"
   ]
  },
  {
   "cell_type": "code",
   "execution_count": 35,
   "metadata": {
    "collapsed": false
   },
   "outputs": [
    {
     "data": {
      "text/plain": [
       "[Row(accruedinterest=None, altmintaxeligible=u'', costbasis=None, country=u'', coupon=None, currency=u'', currencycode=u'', currencyid=u'JPY', cusip=u'J01554104', dataeffectivedt=datetime.datetime(2014, 6, 10, 0, 0), dataobjectinstanceversionkey=62903, firstboughtdate=None, fsc_id=u'F000000N8Q', fundshareclass_id=1600, hd_externalid=u'', hd_id=u'E0JPN002TS', holding_id=1588, holdingdetail_id=29160, holdingytdreturn=Decimal('1'), hp_externalid=u'FSUSA08JKY', investmentvehicle_id=1600, isin=u'', iv_id=u'F000000N8Q', legaltype=u'E', lessthanoneyearbond=u'', localmarketvalue=u'', marketcapital=None, marketvalue=0, maturitydate=None, numberofshare=0, operation_id=1600, p_date=datetime.datetime(2014, 2, 24, 0, 0), paymenttype=u'', portfolio_id=1588, portfoliolist_id=1588, portfoliosummary_id=1588, region=10, rule144aeligible=u'', scb_cusip=u'', scb_legaltype=u'FO', scb_name=u'MHAM Newly Growth Stk Op', scb_ticker=u'', sector=u'', securityname=u'Anritsu Corp', sedol=u'B020T55', sharechange=-13000, shareclassbasics_id=1600, stylebox=5, symbol=u'AITUF', weighting=None)]"
      ]
     },
     "execution_count": 35,
     "metadata": {},
     "output_type": "execute_result"
    }
   ],
   "source": [
    "import pyspark_cassandra # pyspark cassandra module created by me\n",
    "# Mapping to Cassandra\n",
    "# Takes a keyspace (database) and table and returns a cassandraRDD which operates similar to a regular RDD\n",
    "holdings = sc.cassandraTable(\"morningstar\", \"fullholdingsholdinglevelflat\")\n",
    "# Fetch the first record in the Cassandra table and return it\n",
    "holdings.first()\n",
    "# Fetch single fund all holdings all report periods\n",
    "filtered = holdings.filter(lambda row: row.iv_id==\"F000000N8Q\")\n",
    "filtered.take(1)"
   ]
  },
  {
   "cell_type": "code",
   "execution_count": null,
   "metadata": {
    "collapsed": true
   },
   "outputs": [],
   "source": []
  },
  {
   "cell_type": "code",
   "execution_count": 30,
   "metadata": {
    "collapsed": false
   },
   "outputs": [],
   "source": []
  },
  {
   "cell_type": "code",
   "execution_count": null,
   "metadata": {
    "collapsed": false
   },
   "outputs": [],
   "source": []
  },
  {
   "cell_type": "markdown",
   "metadata": {},
   "source": [
    "## Resources"
   ]
  },
  {
   "cell_type": "code",
   "execution_count": 2,
   "metadata": {
    "collapsed": true,
    "slideshow": {
     "slide_type": "slide"
    }
   },
   "outputs": [],
   "source": [
    "#\n",
    "# This program is free software: you can redistribute it and/or modify\n",
    "# it under the terms of the GNU General Public License as published by\n",
    "# the Free Software Foundation, either version 3 of the License, or\n",
    "# (at your option) any later version.\n",
    "\n",
    "# This program is distributed in the hope that it will be useful,\n",
    "# but WITHOUT ANY WARRANTY; without even the implied warranty of\n",
    "# MERCHANTABILITY or FITNESS FOR A PARTICULAR PURPOSE.  See the\n",
    "# GNU General Public License for more details.\n",
    "\n",
    "# You should have received a copy of the GNU General Public License\n",
    "# along with this program.  If not, see <http://www.gnu.org/licenses/>.\n",
    "# "
   ]
  }
 ],
 "metadata": {
  "kernelspec": {
   "display_name": "Python 2",
   "language": "python",
   "name": "python2"
  },
  "language_info": {
   "codemirror_mode": {
    "name": "ipython",
    "version": 2
   },
   "file_extension": ".py",
   "mimetype": "text/x-python",
   "name": "python",
   "nbconvert_exporter": "python",
   "pygments_lexer": "ipython2",
   "version": "2.7.9"
  }
 },
 "nbformat": 4,
 "nbformat_minor": 0
}
